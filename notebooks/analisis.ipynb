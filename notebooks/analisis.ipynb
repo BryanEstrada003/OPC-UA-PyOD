{
 "cells": [
  {
   "cell_type": "markdown",
   "metadata": {},
   "source": [
    "# hola"
   ]
  },
  {
   "cell_type": "code",
   "execution_count": 1,
   "metadata": {},
   "outputs": [
    {
     "ename": "ModuleNotFoundError",
     "evalue": "No module named 'statsmodels'",
     "output_type": "error",
     "traceback": [
      "\u001b[31m---------------------------------------------------------------------------\u001b[39m",
      "\u001b[31mModuleNotFoundError\u001b[39m                       Traceback (most recent call last)",
      "\u001b[36mCell\u001b[39m\u001b[36m \u001b[39m\u001b[32mIn[1]\u001b[39m\u001b[32m, line 6\u001b[39m\n\u001b[32m      4\u001b[39m \u001b[38;5;28;01mimport\u001b[39;00m\u001b[38;5;250m \u001b[39m\u001b[34;01mseaborn\u001b[39;00m\u001b[38;5;250m \u001b[39m\u001b[38;5;28;01mas\u001b[39;00m\u001b[38;5;250m \u001b[39m\u001b[34;01msns\u001b[39;00m\n\u001b[32m      5\u001b[39m \u001b[38;5;28;01mfrom\u001b[39;00m\u001b[38;5;250m \u001b[39m\u001b[34;01mscipy\u001b[39;00m\u001b[38;5;250m \u001b[39m\u001b[38;5;28;01mimport\u001b[39;00m stats\n\u001b[32m----> \u001b[39m\u001b[32m6\u001b[39m \u001b[38;5;28;01mfrom\u001b[39;00m\u001b[38;5;250m \u001b[39m\u001b[34;01mstatsmodels\u001b[39;00m\u001b[34;01m.\u001b[39;00m\u001b[34;01mstats\u001b[39;00m\u001b[34;01m.\u001b[39;00m\u001b[34;01mproportion\u001b[39;00m\u001b[38;5;250m \u001b[39m\u001b[38;5;28;01mimport\u001b[39;00m proportions_ztest\n\u001b[32m      7\u001b[39m \u001b[38;5;28;01mfrom\u001b[39;00m\u001b[38;5;250m \u001b[39m\u001b[34;01mscipy\u001b[39;00m\u001b[34;01m.\u001b[39;00m\u001b[34;01mstats\u001b[39;00m\u001b[38;5;250m \u001b[39m\u001b[38;5;28;01mimport\u001b[39;00m f\n\u001b[32m      8\u001b[39m \u001b[38;5;28;01mfrom\u001b[39;00m\u001b[38;5;250m \u001b[39m\u001b[34;01mscipy\u001b[39;00m\u001b[34;01m.\u001b[39;00m\u001b[34;01mstats\u001b[39;00m\u001b[38;5;250m \u001b[39m\u001b[38;5;28;01mimport\u001b[39;00m chi2_contingency\n",
      "\u001b[31mModuleNotFoundError\u001b[39m: No module named 'statsmodels'"
     ]
    }
   ],
   "source": [
    "import pandas as pd\n",
    "import numpy as np\n",
    "import matplotlib.pyplot as plt\n",
    "import seaborn as sns\n",
    "from scipy import stats\n",
    "from statsmodels.stats.proportion import proportions_ztest\n",
    "from scipy.stats import f\n",
    "from scipy.stats import chi2_contingency\n",
    "from scipy.stats import normaltest\n",
    "import statsmodels.api as sm\n",
    "import matplotlib.pyplot as plt\n",
    "import os\n",
    "from dotenv import load_dotenv"
   ]
  },
  {
   "cell_type": "code",
   "execution_count": 69,
   "metadata": {},
   "outputs": [],
   "source": [
    "def diagrama_barra(df_new):\n",
    "    object_columns = df_new.select_dtypes(include=\"object\").columns\n",
    "\n",
    "    for column in object_columns:\n",
    "        plt.figure(figsize=(10, 6))\n",
    "        sns.barplot(\n",
    "            x=df_new[column].value_counts().index, y=df_new[column].value_counts().values\n",
    "        )\n",
    "        plt.title(f\"Diagrama de barras de {column}\")\n",
    "        plt.xlabel(column)\n",
    "        plt.ylabel(\"Frequency\")\n",
    "        plt.xticks(rotation=45)\n",
    "        for i, v in enumerate(df_new[column].value_counts().values):\n",
    "            plt.text(i, v, str(v), ha=\"center\", va=\"bottom\")\n",
    "        plt.show()"
   ]
  },
  {
   "cell_type": "code",
   "execution_count": 2,
   "metadata": {},
   "outputs": [],
   "source": [
    "# Obtener la variable de entorno\n",
    "ruta = \"/home/mai_lavender/Escritorio/estadisticas/estadisticaG2/datos_proyecto.xlsx\""
   ]
  },
  {
   "cell_type": "code",
   "execution_count": 73,
   "metadata": {},
   "outputs": [],
   "source": [
    "df = pd.read_excel(ruta)\n",
    "columns_new = [\n",
    "    \"estudiante\",\n",
    "    \"carrera\",\n",
    "    \"sexo\",\n",
    "    \"horario_tomado\",\n",
    "    \"nota_estadistica\",\n",
    "    \"nota_calculo\",\n",
    "    \"nota_algebra\",\n",
    "    \"nota_fund_prog\",\n",
    "]\n",
    "df_new = df.copy()\n",
    "\n",
    "df_new.columns = columns_new\n",
    "df_new = df_new.drop(columns=[\"estudiante\"])\n",
    "# llevar la columna nota_estadistica a float\n",
    "df_new[\"nota_estadistica\"] = (\n",
    "    df_new[\"nota_estadistica\"].str.replace(\",\", \".\").astype(float)\n",
    ")\n",
    "df_no_calculus = df_new[df_new[\"nota_calculo\"].isna()]\n"
   ]
  },
  {
   "cell_type": "code",
   "execution_count": 74,
   "metadata": {},
   "outputs": [
    {
     "name": "stdout",
     "output_type": "stream",
     "text": []
    }
   ],
   "source": [
    "# quiero eliminar la columna nota_calculo\n",
    "\n",
    "df_no_calculus = df_no_calculus.drop(columns=[\"nota_calculo\"])\n",
    "df_no_calculus"
   ]
  },
  {
   "cell_type": "code",
   "execution_count": 75,
   "metadata": {},
   "outputs": [
    {
     "name": "stdout",
     "output_type": "stream",
     "text": []
    }
   ],
   "source": [
    "# eliminar las filas que tienen la columna nota_calculo vacia\n",
    "df_new = df_new.dropna(subset=[\"nota_calculo\"])\n",
    "\n",
    "# quiero sacar estudiante de mi dataframe\n",
    "\n",
    "\n",
    "df_new.info()"
   ]
  },
  {
   "cell_type": "code",
   "execution_count": 76,
   "metadata": {},
   "outputs": [
    {
     "name": "stdout",
     "output_type": "stream",
     "text": []
    },
    {
     "name": "stdout",
     "output_type": "stream",
     "text": []
    }
   ],
   "source": [
    "df_new.std()"
   ]
  },
  {
   "cell_type": "code",
   "execution_count": 77,
   "metadata": {},
   "outputs": [
    {
     "name": "stdout",
     "output_type": "stream",
     "text": []
    },
    {
     "name": "stdout",
     "output_type": "stream",
     "text": []
    }
   ],
   "source": [
    "df_no_calculus.std()"
   ]
  },
  {
   "cell_type": "code",
   "execution_count": 78,
   "metadata": {},
   "outputs": [
    {
     "name": "stdout",
     "output_type": "stream",
     "text": []
    }
   ],
   "source": [
    "df_new.describe()"
   ]
  },
  {
   "cell_type": "code",
   "execution_count": 79,
   "metadata": {},
   "outputs": [
    {
     "name": "stdout",
     "output_type": "stream",
     "text": []
    }
   ],
   "source": [
    "df_no_calculus.describe()"
   ]
  },
  {
   "cell_type": "code",
   "execution_count": 80,
   "metadata": {},
   "outputs": [
    {
     "name": "stdout",
     "output_type": "stream",
     "text": []
    },
    {
     "name": "stdout",
     "output_type": "stream",
     "text": []
    },
    {
     "name": "stdout",
     "output_type": "stream",
     "text": []
    }
   ],
   "source": [
    "# Obtener las columnas de tipo object\n",
    "\n",
    "diagrama_barra(df_new)"
   ]
  },
  {
   "cell_type": "code",
   "execution_count": 81,
   "metadata": {},
   "outputs": [
    {
     "name": "stdout",
     "output_type": "stream",
     "text": []
    },
    {
     "name": "stdout",
     "output_type": "stream",
     "text": []
    },
    {
     "name": "stdout",
     "output_type": "stream",
     "text": []
    }
   ],
   "source": [
    "diagrama_barra(df_no_calculus)"
   ]
  },
  {
   "cell_type": "code",
   "execution_count": 29,
   "metadata": {},
   "outputs": [
    {
     "name": "stdout",
     "output_type": "stream",
     "text": []
    }
   ],
   "source": [
    "moda = df_new.mode()\n",
    "moda"
   ]
  },
  {
   "cell_type": "code",
   "execution_count": 82,
   "metadata": {},
   "outputs": [
    {
     "name": "stdout",
     "output_type": "stream",
     "text": []
    }
   ],
   "source": [
    "moda = df_no_calculus.mode()\n",
    "moda"
   ]
  },
  {
   "cell_type": "code",
   "execution_count": 30,
   "metadata": {},
   "outputs": [],
   "source": [
    "def boxplot(value):\n",
    "    data = df_new.columns\n",
    "    column_data = df_new[data[value]]\n",
    "    if column_data.dtype in [np.int64, np.float64]:\n",
    "        sns.set_style(\"whitegrid\")\n",
    "        fig, ax = plt.subplots(1, 1, figsize=(22, 2))\n",
    "        sns.boxplot(x=column_data, color=\"#6E75CA\", ax=ax)\n",
    "\n",
    "        # Calculate and draw the mean\n",
    "        mean = column_data.mean()\n",
    "        ax.axvline(mean, color=\"#30db78\", linestyle=\"--\")\n",
    "        # ax.text(mean, 0.75, 'Mean: {:.2f}'.format(mean), va='center', ha='center', backgroundcolor='w')\n",
    "\n",
    "        # Calculate and draw the median\n",
    "        median = column_data.median()\n",
    "        ax.axvline(median, color=\"#c4db30\", linestyle=\"-\")\n",
    "        # ax.text(median, 0.85, 'Median: {:.2f}'.format(median), va='center', ha='center', backgroundcolor='w')\n",
    "\n",
    "        plt.title(\"Distribución de valores la variable \" + data[value])\n",
    "        plt.xlabel(data[value])\n",
    "        plt.show()\n",
    "        fig.tight_layout()\n",
    "\n",
    "\n",
    "def histogram_f_fn_x(df, column: str, b: int):\n",
    "\n",
    "    # Configurar el estilo del gráfico\n",
    "    sns.set_style(\"whitegrid\")\n",
    "    # Crear el histograma y obtener los valores de las barras\n",
    "    counts, bins, patches = plt.hist(df[column], bins=b, color=\"#6E75CA\")\n",
    "    # Añadir título y etiquetas a los ejes\n",
    "    plt.title(f\"Histograma de Frecuencia Absoluta de {column}\")\n",
    "    plt.xlabel(column)\n",
    "    plt.ylabel(\"Frecuencia\")\n",
    "    # Modificar el eje x para mostrar el intervalo de cada barra\n",
    "    plt.xticks(bins, [f\"{bin:.2f}-{bins[i+1]:.2f}\" for i, bin in enumerate(bins[:-1])])\n",
    "    # Para cada barra: colocar una etiqueta con el valor de la altura de la barra\n",
    "    for count, bin, patch in zip(counts, bins, patches):\n",
    "        plt.text(bin, patch.get_height(), f\"{count:.0f}\", color=\"black\", ha=\"left\")\n",
    "    # Mostrar el gráfico\n",
    "    plt.show()\n",
    "\n",
    "    # Configurar el estilo del gráfico\n",
    "    sns.set_style(\"whitegrid\")\n",
    "    # Crear el histograma de frecuencia relativa y obtener los valores de las barras\n",
    "    counts, bins, patches = plt.hist(df[column], bins=b, color=\"#6E75CA\", density=True)\n",
    "    # Añadir título y etiquetas a los ejes\n",
    "    plt.title(f\"Histograma de Frecuencia Relativa de {column}\")\n",
    "    plt.xlabel(column)\n",
    "    plt.ylabel(\"Frecuencia Relativa\")\n",
    "    # Modificar el eje x para mostrar el intervalo de cada barra\n",
    "    plt.xticks(bins, [f\"{bin:.2f}-{bins[i+1]:.2f}\" for i, bin in enumerate(bins[:-1])])\n",
    "    # Para cada barra: colocar una etiqueta con el valor de la altura de la barra\n",
    "    for count, bin, patch in zip(counts, bins, patches):\n",
    "        plt.text(bin, patch.get_height(), f\"{count:.3f}\", color=\"black\", ha=\"left\")\n",
    "    # Mostrar el gráfico\n",
    "    plt.show()\n",
    "\n",
    "\n",
    "def boxplot_a(value):\n",
    "    data = df_new.columns\n",
    "    column_data = df_new[data[value]]\n",
    "    if column_data.dtype in [np.int64, np.float64]:\n",
    "        sns.set_style(\"whitegrid\")\n",
    "        fig, ax = plt.subplots(1, 1, figsize=(22, 2))\n",
    "        sns.boxplot(x=column_data, color=\"#6E75CA\")\n",
    "\n",
    "        # Calculate quartiles and limits\n",
    "        q1 = column_data.quantile(0.25)\n",
    "        q2 = column_data.quantile(0.5)\n",
    "        q3 = column_data.quantile(0.75)\n",
    "        iqr = q3 - q1\n",
    "        lower_limit = q1 - 1.5 * iqr\n",
    "        upper_limit = q3 + 1.5 * iqr\n",
    "\n",
    "        # Calculate and draw the mean\n",
    "        mean = column_data.mean()\n",
    "        ax.axvline(mean, color=\"#30db78\", linestyle=\"--\")\n",
    "        # ax.text(mean, 0.75, 'Mean: {:.2f}'.format(mean), va='center', ha='center', backgroundcolor='w')\n",
    "\n",
    "        # Calculate and draw the median\n",
    "        median = column_data.median()\n",
    "        ax.axvline(median, color=\"#c4db30\", linestyle=\"-\")\n",
    "        # ax.text(median, 0.85, 'Median: {:.2f}'.format(median), va='center', ha='center', backgroundcolor='w')\n",
    "\n",
    "        # Add quartile values and limits to the plot\n",
    "        ax.text(0.06, 0.90, f\"Lower Limit: {lower_limit:.2f}\", transform=ax.transAxes)\n",
    "        ax.text(0.06, 0.80, f\"Upper Limit: {upper_limit:.2f}\", transform=ax.transAxes)\n",
    "\n",
    "        plt.title(\"Distribución de valores la variable \" + data[value])\n",
    "        plt.xlabel(data[value])\n",
    "        plt.show()\n",
    "        fig.tight_layout()\n",
    "\n",
    "\n",
    "def histogram_f_fn(df, column: str, b: int):\n",
    "\n",
    "    # Configurar el estilo del gráfico\n",
    "    sns.set_style(\"whitegrid\")\n",
    "    # Crear el histograma y obtener los valores de las barras\n",
    "    counts, bins, patches = plt.hist(df[column], bins=b, color=\"#6E75CA\")\n",
    "    # Añadir título y etiquetas a los ejes\n",
    "    plt.title(f\"Histograma de Frecuencia Absoluta de {column}\")\n",
    "    plt.xlabel(column)\n",
    "    plt.ylabel(\"Frecuencia\")\n",
    "    # Para cada barra: colocar una etiqueta con el valor de la altura de la barra\n",
    "    for count, bin, patch in zip(counts, bins, patches):\n",
    "        plt.text(bin, patch.get_height(), f\"{count:.0f}\", color=\"black\", ha=\"left\")\n",
    "    # Mostrar el gráfico\n",
    "    plt.show()\n",
    "\n",
    "    # Calcular la frecuencia relativa\n",
    "    total_data = len(df)\n",
    "    relative_freq = counts / total_data\n",
    "\n",
    "    # Configurar el estilo del gráfico\n",
    "    sns.set_style(\"whitegrid\")\n",
    "    # Crear el histograma de frecuencia relativa y obtener los valores de las barras\n",
    "    _, _, patches = plt.hist(df[column], bins=b, color=\"#6E75CA\", density=True)\n",
    "    # Añadir título y etiquetas a los ejes\n",
    "    plt.title(f\"Histograma de Frecuencia Relativa de {column}\")\n",
    "    plt.xlabel(column)\n",
    "    plt.ylabel(\"Frecuencia Relativa\")\n",
    "    # Para cada barra: colocar una etiqueta con el valor de la altura de la barra\n",
    "    for relative_freq, bin, patch in zip(relative_freq, bins, patches):\n",
    "        plt.text(\n",
    "            bin, patch.get_height(), f\"{relative_freq:.3f}\", color=\"black\", ha=\"left\"\n",
    "        )\n",
    "    # Mostrar el gráfico\n",
    "    plt.show()\n",
    "\n",
    "\n",
    "def tabla_frec(df, column: str):\n",
    "    max_val = df[column].max()\n",
    "    min_val = df[column].min()\n",
    "    rango = max_val - min_val\n",
    "    k = int(1 + 3.322 * np.log10(df[column].count()))\n",
    "    print(k)\n",
    "    AK = round(rango / k, 2)\n",
    "    n = df[column].count()\n",
    "    tb = pd.DataFrame(columns=[\"ordinal\", \"k\", \"mk\", \"f\", \"f/n\", \"F\", \"F/n\"])\n",
    "    tb[\"ordinal\"] = range(1, k + 1)\n",
    "    tb[\"k\"] = [\n",
    "        f\"[{round(min_val + AK * i, 2)} - {round(min_val + AK * (i+1), 2)}]\"\n",
    "        for i in range(k)\n",
    "    ]\n",
    "    tb[\"mk\"] = [(min_val + AK * i + min_val + AK * (i + 1)) / 2 for i in range(k)]\n",
    "    tb[\"f\"] = [\n",
    "        (\n",
    "            (df[column] >= min_val + AK * i)\n",
    "            & (\n",
    "                df[column] < min_val + AK * (i + 1)\n",
    "                if i < k - 1\n",
    "                else df[column] <= min_val + AK * (i + 1)\n",
    "            )\n",
    "        ).sum()\n",
    "        for i in range(k)\n",
    "    ]\n",
    "    tb[\"f/n\"] = round(tb[\"f\"] / n, 3)\n",
    "    tb[\"F\"] = tb[\"f\"].cumsum()\n",
    "    tb[\"F/n\"] = round(tb[\"F\"] / n, 3)\n",
    "    return tb\n",
    "\n",
    "\n",
    "def scatter_plots_with_linear_function(df):\n",
    "    columns = df.columns\n",
    "\n",
    "    for i in range(len(columns)):\n",
    "        for j in range(i + 1, len(columns)):\n",
    "            x = columns[i]\n",
    "            y = columns[j]\n",
    "\n",
    "            plt.figure(figsize=(8, 6))\n",
    "            plt.scatter(df[x], df[y], color=\"#22BABB\")\n",
    "            plt.title(f\"Scatter Plot: {x} vs {y}\")\n",
    "            plt.xlabel(x)\n",
    "            plt.ylabel(y)\n",
    "\n",
    "            # Calculate correlation coefficient\n",
    "            corr_coef = np.corrcoef(df[x], df[y])[0, 1]\n",
    "\n",
    "            # Add correlation coefficient as text annotation\n",
    "            plt.text(\n",
    "                df[x].min(),\n",
    "                df[y].max(),\n",
    "                f\"Corr: {corr_coef:.2f}\",\n",
    "                color=\"black\",\n",
    "                ha=\"left\",\n",
    "            )\n",
    "\n",
    "            # Add linear function\n",
    "            m, b = np.polyfit(df[x], df[y], 1)\n",
    "            plt.plot(df[x], m * df[x] + b, color=\"#EF8026\")\n",
    "\n",
    "            plt.show()\n",
    "\n",
    "\n",
    "def scatter_plots(df):\n",
    "    columns = df.columns\n",
    "\n",
    "    for i in range(len(columns)):\n",
    "        for j in range(i + 1, len(columns)):\n",
    "            x = columns[i]\n",
    "            y = columns[j]\n",
    "\n",
    "            plt.figure(figsize=(8, 6))\n",
    "            plt.scatter(df[x], df[y], color=\"#6E75CA\")\n",
    "            plt.title(f\"Scatter Plot: {x} vs {y}\")\n",
    "            plt.xlabel(x)\n",
    "            plt.ylabel(y)\n",
    "\n",
    "            # Calculate correlation coefficient\n",
    "            corr_coef = np.corrcoef(df[x], df[y])[0, 1]\n",
    "\n",
    "            # Add correlation coefficient as text annotation\n",
    "            plt.text(\n",
    "                df[x].min(),\n",
    "                df[y].max(),\n",
    "                f\"Corr: {corr_coef:.2f}\",\n",
    "                color=\"black\",\n",
    "                ha=\"left\",\n",
    "            )\n",
    "\n",
    "            plt.show()\n",
    "\n",
    "\n",
    "def boxplot_x2(df, column: str, column2: str):\n",
    "    sns.boxplot(\n",
    "        data=df,\n",
    "        x=column,\n",
    "        y=column2,\n",
    "        order=[\"male\", \"female\"],\n",
    "        palette=[\"#6E75CA\", \"#F2CB05\", \"#6DAFC9\", \"#EF8026\", \"#CC99FF\"],\n",
    "    )\n",
    "    plt.title(f\"Diagrama de cajas de {column2} por {column}\")\n",
    "    plt.xlabel(column)\n",
    "    plt.ylabel(column2)\n",
    "    plt.show()\n",
    "\n",
    "\n",
    "def boxplot_x3(df, column: str, column2: str):\n",
    "    sns.boxplot(\n",
    "        data=df,\n",
    "        x=column,\n",
    "        y=column2,\n",
    "        order=[\"no\", \"yes\"],\n",
    "        palette=[\"#6E75CA\", \"#F2CB05\", \"#6DAFC9\", \"#EF8026\", \"#CC99FF\"],\n",
    "    )\n",
    "    plt.title(f\"Diagrama de cajas de {column2} por {column}\")\n",
    "    plt.xlabel(column)\n",
    "    plt.ylabel(column2)\n",
    "    plt.show()"
   ]
  },
  {
   "cell_type": "code",
   "execution_count": 83,
   "metadata": {},
   "outputs": [
    {
     "name": "stdout",
     "output_type": "stream",
     "text": []
    },
    {
     "name": "stdout",
     "output_type": "stream",
     "text": []
    },
    {
     "name": "stdout",
     "output_type": "stream",
     "text": []
    }
   ],
   "source": [
    "dataTypes = df_no_calculus.dtypes\n",
    "for i in range(dataTypes.size):\n",
    "    boxplot_a(i)"
   ]
  },
  {
   "cell_type": "code",
   "execution_count": 84,
   "metadata": {},
   "outputs": [
    {
     "name": "stdout",
     "output_type": "stream",
     "text": []
    },
    {
     "name": "stdout",
     "output_type": "stream",
     "text": []
    },
    {
     "name": "stdout",
     "output_type": "stream",
     "text": []
    },
    {
     "name": "stdout",
     "output_type": "stream",
     "text": []
    }
   ],
   "source": [
    "dataTypes = df_new.dtypes\n",
    "for i in range(dataTypes.size):\n",
    "    boxplot_a(i)"
   ]
  },
  {
   "cell_type": "code",
   "execution_count": 85,
   "metadata": {},
   "outputs": [
    {
     "name": "stdout",
     "output_type": "stream",
     "text": []
    },
    {
     "name": "stdout",
     "output_type": "stream",
     "text": []
    }
   ],
   "source": [
    "estadistica = tabla_frec(df_new, \"nota_estadistica\")\n",
    "estadistica"
   ]
  },
  {
   "cell_type": "code",
   "execution_count": 86,
   "metadata": {},
   "outputs": [
    {
     "name": "stdout",
     "output_type": "stream",
     "text": []
    },
    {
     "name": "stdout",
     "output_type": "stream",
     "text": []
    }
   ],
   "source": [
    "calculo = tabla_frec(df_new, \"nota_calculo\")\n",
    "calculo"
   ]
  },
  {
   "cell_type": "code",
   "execution_count": 87,
   "metadata": {},
   "outputs": [
    {
     "name": "stdout",
     "output_type": "stream",
     "text": []
    },
    {
     "name": "stdout",
     "output_type": "stream",
     "text": []
    }
   ],
   "source": [
    "algebra = tabla_frec(df_new, \"nota_algebra\")\n",
    "algebra"
   ]
  },
  {
   "cell_type": "code",
   "execution_count": 88,
   "metadata": {},
   "outputs": [
    {
     "name": "stdout",
     "output_type": "stream",
     "text": []
    },
    {
     "name": "stdout",
     "output_type": "stream",
     "text": []
    }
   ],
   "source": [
    "programacion = tabla_frec(df_new, \"nota_fund_prog\")\n",
    "programacion"
   ]
  },
  {
   "cell_type": "code",
   "execution_count": 89,
   "metadata": {},
   "outputs": [
    {
     "name": "stdout",
     "output_type": "stream",
     "text": []
    },
    {
     "name": "stdout",
     "output_type": "stream",
     "text": []
    },
    {
     "name": "stdout",
     "output_type": "stream",
     "text": []
    },
    {
     "name": "stdout",
     "output_type": "stream",
     "text": []
    },
    {
     "name": "stdout",
     "output_type": "stream",
     "text": []
    },
    {
     "name": "stdout",
     "output_type": "stream",
     "text": []
    },
    {
     "name": "stdout",
     "output_type": "stream",
     "text": []
    },
    {
     "name": "stdout",
     "output_type": "stream",
     "text": []
    }
   ],
   "source": [
    "histogram_f_fn(df_new, \"nota_estadistica\", 10)\n",
    "histogram_f_fn(df_new, \"nota_calculo\", 10)\n",
    "histogram_f_fn(df_new, \"nota_algebra\", 10)\n",
    "histogram_f_fn(df_new, \"nota_fund_prog\", 10)"
   ]
  },
  {
   "cell_type": "code",
   "execution_count": 90,
   "metadata": {},
   "outputs": [
    {
     "name": "stdout",
     "output_type": "stream",
     "text": []
    }
   ],
   "source": [
    "df_new_numerics = df_new.select_dtypes(include=[np.number])\n",
    "df_new_numerics.corr()"
   ]
  },
  {
   "cell_type": "code",
   "execution_count": 91,
   "metadata": {},
   "outputs": [
    {
     "name": "stdout",
     "output_type": "stream",
     "text": []
    },
    {
     "name": "stdout",
     "output_type": "stream",
     "text": []
    }
   ],
   "source": [
    "plt.figure(figsize=(5, 5))\n",
    "sns.heatmap(\n",
    "    df_new_numerics.corr(),\n",
    "    # cmap = 'coolwarm',\n",
    "    annot=True,\n",
    "    square=True,\n",
    ")"
   ]
  },
  {
   "cell_type": "code",
   "execution_count": 92,
   "metadata": {},
   "outputs": [
    {
     "name": "stdout",
     "output_type": "stream",
     "text": []
    },
    {
     "name": "stdout",
     "output_type": "stream",
     "text": []
    }
   ],
   "source": [
    "MT = df_new.select_dtypes(exclude=[\"object\", \"bool\"]).copy()\n",
    "\n",
    "sns.pairplot(MT, plot_kws={\"color\": \"#6E75CA\"}, diag_kws={\"color\": \"#6E75CA\"})"
   ]
  },
  {
   "cell_type": "code",
   "execution_count": 93,
   "metadata": {},
   "outputs": [
    {
     "name": "stdout",
     "output_type": "stream",
     "text": []
    },
    {
     "name": "stdout",
     "output_type": "stream",
     "text": []
    },
    {
     "name": "stdout",
     "output_type": "stream",
     "text": []
    },
    {
     "name": "stdout",
     "output_type": "stream",
     "text": []
    },
    {
     "name": "stdout",
     "output_type": "stream",
     "text": []
    },
    {
     "name": "stdout",
     "output_type": "stream",
     "text": []
    }
   ],
   "source": [
    "scatter_plots_with_linear_function(MT)"
   ]
  },
  {
   "cell_type": "code",
   "execution_count": null,
   "metadata": {},
   "outputs": [
    {
     "name": "stdout",
     "output_type": "stream",
     "text": []
    },
    {
     "name": "stdout",
     "output_type": "stream",
     "text": []
    },
    {
     "name": "stdout",
     "output_type": "stream",
     "text": []
    }
   ],
   "source": [
    "boxplot_x2(df_new, \"Sexo\", \"Edad\")\n",
    "boxplot_x2(df_new, \"Sexo\", \"BMI\")\n",
    "boxplot_x2(df_new, \"Sexo\", \"Costos\")"
   ]
  },
  {
   "cell_type": "code",
   "execution_count": null,
   "metadata": {},
   "outputs": [
    {
     "name": "stdout",
     "output_type": "stream",
     "text": []
    },
    {
     "name": "stdout",
     "output_type": "stream",
     "text": []
    },
    {
     "name": "stdout",
     "output_type": "stream",
     "text": []
    }
   ],
   "source": [
    "boxplot_x3(df_new, \"Hábito de fumar\", \"Edad\")\n",
    "boxplot_x3(df_new, \"Hábito de fumar\", \"BMI\")\n",
    "boxplot_x3(df_new, \"Hábito de fumar\", \"Costos\")"
   ]
  },
  {
   "cell_type": "code",
   "execution_count": null,
   "metadata": {},
   "outputs": [
    {
     "name": "stdout",
     "output_type": "stream",
     "text": []
    }
   ],
   "source": [
    "def generate_contingency_tables(df):\n",
    "    categorical_vars = [\n",
    "        var\n",
    "        for var in df.columns\n",
    "        if df[var].dtype == \"object\" or df[var].dtype == \"bool\"\n",
    "    ]\n",
    "\n",
    "    contingency_tables = {}\n",
    "\n",
    "    for i in range(len(categorical_vars)):\n",
    "        for j in range(i + 1, len(categorical_vars)):\n",
    "            var1 = categorical_vars[i]\n",
    "            var2 = categorical_vars[j]\n",
    "\n",
    "            if (\n",
    "                f\"{var1} vs {var2}\" not in contingency_tables\n",
    "                and f\"{var2} vs {var1}\" not in contingency_tables\n",
    "            ):\n",
    "                contingency_table = pd.crosstab(\n",
    "                    index=df[var1], columns=df[var2], margins=True, margins_name=\"Total\"\n",
    "                )\n",
    "                contingency_tables[f\"{var1} vs {var2}\"] = contingency_table\n",
    "                # Guardar la tabla de contingencia en un DataFrame separado\n",
    "                globals()[f\"{var1}_vs_{var2}_table\"] = contingency_table\n",
    "\n",
    "    return contingency_tables\n",
    "\n",
    "\n",
    "generate_contingency_tables(df_new)"
   ]
  },
  {
   "cell_type": "markdown",
   "metadata": {},
   "source": [
    "## Prueba hipotesis: diferencia de medias de los costos médicos con respecto a habitos de fumar\n",
    "\n",
    "H0 = La media de los costos médicos es igual entre fumadores y mo fumadores\n",
    "\n",
    "H1 = La media de los costos médicos es diferente entre fumadores y mo fumadores\n",
    "\n",
    "Supuestos: X1,X2 población normal e independientes 𝜎12,𝜎22 desconocido n1,n2 grande"
   ]
  },
  {
   "cell_type": "code",
   "execution_count": null,
   "metadata": {},
   "outputs": [
    {
     "name": "stdout",
     "output_type": "stream",
     "text": []
    }
   ],
   "source": [
    "no_fumador = df_new[df_new[\"Hábito de fumar\"] == \"no\"][\"Costos\"].tolist()\n",
    "fumador = df_new[df_new[\"Hábito de fumar\"] == \"yes\"][\"Costos\"].tolist()\n",
    "print(len(no_fumador))\n",
    "print(len(fumador))"
   ]
  },
  {
   "cell_type": "code",
   "execution_count": 49,
   "metadata": {},
   "outputs": [
    {
     "name": "stdout",
     "output_type": "stream",
     "text": []
    }
   ],
   "source": [
    "# Nivel de significancia\n",
    "nivel_significancia = 0.05\n",
    "\n",
    "# Realizamos la prueba t de Student para muestras independientes\n",
    "t_stat, p_valor = stats.ttest_ind(no_fumador, fumador, equal_var=False)\n",
    "\n",
    "# Imprimimos los resultados\n",
    "print(\"Estadístico t:\", t_stat)\n",
    "print(\"Valor p:\", p_valor)\n",
    "\n",
    "# Interpretación del resultado\n",
    "if p_valor < nivel_significancia:\n",
    "    print(\"Rechazamos la hipótesis nula\")\n",
    "else:\n",
    "    print(\"No podemos rechazar la hipótesis nula\")"
   ]
  },
  {
   "cell_type": "markdown",
   "metadata": {},
   "source": []
  },
  {
   "cell_type": "code",
   "execution_count": null,
   "metadata": {},
   "outputs": [
    {
     "name": "stdout",
     "output_type": "stream",
     "text": []
    },
    {
     "name": "stdout",
     "output_type": "stream",
     "text": []
    }
   ],
   "source": [
    "no_saludable = df_new[(df_new[\"BMI\"] < 18.5) | (df_new[\"BMI\"] > 24.9)][\"BMI\"]\n",
    "saludable = df_new[(df_new[\"BMI\"] >= 18.5) & (df_new[\"BMI\"] <= 24.9)][\"BMI\"]\n",
    "print(df_new[\"BMI\"].count())"
   ]
  },
  {
   "cell_type": "code",
   "execution_count": null,
   "metadata": {},
   "outputs": [
    {
     "name": "stdout",
     "output_type": "stream",
     "text": []
    }
   ],
   "source": [
    "# Contar los individuos en cada categoría\n",
    "n_no_saludable = no_saludable.count()\n",
    "n_saludable = saludable.count()\n",
    "n_total = df_new[\"BMI\"].count()\n",
    "\n",
    "# Proporción observada de no saludables\n",
    "prop_no_saludable = n_no_saludable / n_total\n",
    "\n",
    "# Proporción saludable (hipótesis nula: 50%)\n",
    "prop_hipotesis_nula = 0.5\n",
    "\n",
    "# Realizar la prueba de proporciones z\n",
    "z_stat, p_valor = proportions_ztest(\n",
    "    count=n_no_saludable, nobs=n_total, value=prop_hipotesis_nula, alternative=\"larger\"\n",
    ")\n",
    "\n",
    "# Imprimir resultados\n",
    "print(\"Estadístico Z:\", z_stat)\n",
    "print(\"Valor p:\", p_valor)\n",
    "\n",
    "# Interpretar resultados\n",
    "nivel_significancia = 0.05\n",
    "if p_valor < nivel_significancia:\n",
    "    print(\n",
    "        \"Rechazamos la hipótesis nula: la proporción de BMI no saludable es mayor que la saludable.\"\n",
    "    )\n",
    "else:\n",
    "    print(\n",
    "        \"No se rechaza la hipótesis nula: no hay evidencia suficiente para decir que la proporción no saludable es mayor.\"\n",
    "    )"
   ]
  },
  {
   "cell_type": "code",
   "execution_count": null,
   "metadata": {},
   "outputs": [
    {
     "name": "stdout",
     "output_type": "stream",
     "text": []
    }
   ],
   "source": [
    "hombres = df_new[df_new[\"Sexo\"] == \"male\"][\"Costos\"].tolist()\n",
    "mujeres = df_new[df_new[\"Sexo\"] == \"female\"][\"Costos\"].tolist()\n",
    "print(len(hombres))\n",
    "print(len(mujeres))"
   ]
  },
  {
   "cell_type": "code",
   "execution_count": 56,
   "metadata": {},
   "outputs": [
    {
     "name": "stdout",
     "output_type": "stream",
     "text": []
    }
   ],
   "source": [
    "# Nivel de significancia\n",
    "nivel_significancia = 0.05\n",
    "\n",
    "# Realizamos la prueba t de Student para muestras independientes\n",
    "t_stat, p_valor = stats.ttest_ind(hombres, mujeres, equal_var=False)\n",
    "\n",
    "# Imprimimos los resultados\n",
    "print(\"Estadístico t:\", t_stat)\n",
    "print(\"Valor p:\", p_valor)\n",
    "\n",
    "# Interpretación del resultado\n",
    "if p_valor < nivel_significancia:\n",
    "    print(\"Rechazamos la hipótesis nula\")\n",
    "else:\n",
    "    print(\"No podemos rechazar la hipótesis nula\")"
   ]
  }
 ],
 "metadata": {
  "kernelspec": {
   "display_name": ".venv",
   "language": "python",
   "name": "python3"
  },
  "language_info": {
   "codemirror_mode": {
    "name": "ipython",
    "version": 3
   },
   "file_extension": ".py",
   "mimetype": "text/x-python",
   "name": "python",
   "nbconvert_exporter": "python",
   "pygments_lexer": "ipython3",
   "version": "3.11.2"
  }
 },
 "nbformat": 4,
 "nbformat_minor": 2
}
